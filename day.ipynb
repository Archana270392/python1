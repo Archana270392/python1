{
 "cells": [
  {
   "cell_type": "code",
   "execution_count": 25,
   "id": "cb285688-4d7d-4bdb-8372-71aae94a10c8",
   "metadata": {
    "tags": []
   },
   "outputs": [
    {
     "name": "stdin",
     "output_type": "stream",
     "text": [
      "enter the first day of the month friday\n",
      "enter the date to know 4\n"
     ]
    },
    {
     "name": "stdout",
     "output_type": "stream",
     "text": [
      "['thursday', 'friday', 'saturday', 'sunday']\n"
     ]
    },
    {
     "ename": "IndexError",
     "evalue": "list index out of range",
     "output_type": "error",
     "traceback": [
      "\u001b[1;31m---------------------------------------------------------------------------\u001b[0m",
      "\u001b[1;31mIndexError\u001b[0m                                Traceback (most recent call last)",
      "Cell \u001b[1;32mIn[25], line 26\u001b[0m\n\u001b[0;32m     24\u001b[0m     \u001b[38;5;28mprint\u001b[39m(l1[\u001b[38;5;241m3\u001b[39m])\n\u001b[0;32m     25\u001b[0m \u001b[38;5;28;01melif\u001b[39;00m number\u001b[38;5;241m==\u001b[39m\u001b[38;5;241m4\u001b[39m:\n\u001b[1;32m---> 26\u001b[0m     \u001b[38;5;28mprint\u001b[39m(l1[\u001b[38;5;241m4\u001b[39m])\n\u001b[0;32m     27\u001b[0m \u001b[38;5;28;01melif\u001b[39;00m number\u001b[38;5;241m==\u001b[39m\u001b[38;5;241m5\u001b[39m:\n\u001b[0;32m     28\u001b[0m     \u001b[38;5;28mprint\u001b[39m(l1[\u001b[38;5;241m5\u001b[39m])\n",
      "\u001b[1;31mIndexError\u001b[0m: list index out of range"
     ]
    }
   ],
   "source": [
    "day= input(\"enter the first day of the month\")\n",
    "date = int(input(\"enter the date to know\"))\n",
    "if 0<date<7:\n",
    "    number=date\n",
    "else:\n",
    "    number=date%7\n",
    "l1=[]\n",
    "l2 =[\"monday\",\"tuesday\",\"wednesday\",\"thursday\",\"friday\",\"saturday\",\"sunday\"]\n",
    "for i in range(len(l2)):\n",
    "    if list[i]==day:\n",
    "        j=i-1\n",
    "        while j<len(l2):\n",
    "            l1.append(list[j])\n",
    "            j+=1\n",
    "print(l1)\n",
    "    \n",
    "if number==0:\n",
    "    print(l1[0])\n",
    "elif number==1:\n",
    "    print(l1[1])\n",
    "elif number==2:\n",
    "    print(l1[2])\n",
    "elif number==3:\n",
    "    print(l1[3])\n",
    "elif number==4:\n",
    "    print(l1[4])\n",
    "elif number==5:\n",
    "    print(l1[5])\n",
    "elif number==6:\n",
    "    print(l1[6])\n",
    "else:\n",
    "    print(\"enter correct date\")\n",
    "\n"
   ]
  },
  {
   "cell_type": "code",
   "execution_count": null,
   "id": "7b080af5-8630-4c6c-818f-7b3a32f81e8a",
   "metadata": {},
   "outputs": [],
   "source": []
  },
  {
   "cell_type": "code",
   "execution_count": null,
   "id": "6770e1e1-60f8-4962-9a4c-c1bf35c8ecd4",
   "metadata": {},
   "outputs": [],
   "source": []
  },
  {
   "cell_type": "code",
   "execution_count": null,
   "id": "a795db9d-7d80-499c-b1ca-fbe154e22a0b",
   "metadata": {},
   "outputs": [],
   "source": [
    "\n",
    "day= input(\"enter the first day of the month\")\n",
    "l1=[]\n",
    "l2 =[\"monday\",\"tuesday\",\"wednesday\",\"thursday\",\"friday\",\"saturday\",\"sunday\"]\n",
    "for i in range(len(l2)):\n",
    "    if list[i]==day:\n",
    "        j=i-1\n",
    "        while j<len(l2):\n",
    "            l1.append(list[j])\n",
    "            j+=1\n",
    "print(l1)"
   ]
  },
  {
   "cell_type": "code",
   "execution_count": null,
   "id": "d282880b-c1e2-477e-a6d0-c6f03fd8d321",
   "metadata": {},
   "outputs": [],
   "source": []
  }
 ],
 "metadata": {
  "kernelspec": {
   "display_name": "Python 3 (ipykernel)",
   "language": "python",
   "name": "python3"
  },
  "language_info": {
   "codemirror_mode": {
    "name": "ipython",
    "version": 3
   },
   "file_extension": ".py",
   "mimetype": "text/x-python",
   "name": "python",
   "nbconvert_exporter": "python",
   "pygments_lexer": "ipython3",
   "version": "3.11.5"
  }
 },
 "nbformat": 4,
 "nbformat_minor": 5
}
